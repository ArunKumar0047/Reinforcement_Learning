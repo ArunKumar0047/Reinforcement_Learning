{
 "cells": [
  {
   "cell_type": "markdown",
   "metadata": {},
   "source": [
    "Importing necessary libraries"
   ]
  },
  {
   "cell_type": "code",
   "execution_count": 3,
   "metadata": {},
   "outputs": [],
   "source": [
    "import numpy as np\n",
    "import random\n",
    "import time\n",
    "import matplotlib.pyplot as plt"
   ]
  },
  {
   "cell_type": "markdown",
   "metadata": {},
   "source": [
    "Defining the grid"
   ]
  },
  {
   "cell_type": "code",
   "execution_count": 4,
   "metadata": {},
   "outputs": [],
   "source": [
    "grid_size = 100\n",
    "grid = np.zeros((grid_size, grid_size))"
   ]
  },
  {
   "cell_type": "markdown",
   "metadata": {},
   "source": [
    "Define the obstacles"
   ]
  },
  {
   "cell_type": "code",
   "execution_count": 5,
   "metadata": {},
   "outputs": [],
   "source": [
    "num_obstacles = int(grid_size * grid_size * 0.2)  # 20% of the grid cells as obstacles\n",
    "obstacle_positions = random.sample([(i, j) for i in range(grid_size) for j in range(grid_size)], num_obstacles)\n",
    "\n",
    "# Mark obstacles in the grid\n",
    "for obs in obstacle_positions:\n",
    "    grid[obs] = -1  # Obstacle marked as -1\n",
    "\n",
    "# Randomly place start and goal points\n",
    "start = (random.randint(0, grid_size-1), random.randint(0, grid_size-1))\n",
    "goal = (random.randint(0, grid_size-1), random.randint(0, grid_size-1))\n",
    "\n",
    "# Ensure start and goal are not on obstacles\n",
    "while grid[start] == -1:\n",
    "    start = (random.randint(0, grid_size-1), random.randint(0, grid_size-1))\n",
    "\n",
    "while grid[goal] == -1:\n",
    "    goal = (random.randint(0, grid_size-1), random.randint(0, grid_size-1))"
   ]
  },
  {
   "cell_type": "markdown",
   "metadata": {},
   "source": [
    "Define the action space and environment parameters"
   ]
  },
  {
   "cell_type": "code",
   "execution_count": 6,
   "metadata": {},
   "outputs": [],
   "source": [
    "actions = [(-1, 0), (1, 0), (0, -1), (0, 1)]  # Up, Down, Left, Right\n",
    "gamma = 0.99  # Discount factor\n",
    "goal_reward = 100\n",
    "obstacle_penalty = -100\n",
    "move_penalty = -1"
   ]
  },
  {
   "cell_type": "markdown",
   "metadata": {},
   "source": [
    "Define the reward function based on the state"
   ]
  },
  {
   "cell_type": "code",
   "execution_count": 7,
   "metadata": {},
   "outputs": [],
   "source": [
    "def reward(state):\n",
    "    if state == goal:\n",
    "        return goal_reward\n",
    "    elif grid[state] == -1:\n",
    "        return obstacle_penalty\n",
    "    else:\n",
    "        return move_penalty\n",
    "\n",
    "def is_valid(state):\n",
    "    x, y = state\n",
    "    return 0 <= x < grid_size and 0 <= y < grid_size and grid[state] != -1\n",
    "\n",
    "def transition(state, action):\n",
    "    next_state = (state[0] + action[0], state[1] + action[1])\n",
    "    if is_valid(next_state):\n",
    "        return next_state\n",
    "    else:\n",
    "        return state  # Stay in the same state if invalid move"
   ]
  },
  {
   "cell_type": "markdown",
   "metadata": {},
   "source": [
    "Dynamic Programming: Value Iteration for Optimal Policy"
   ]
  },
  {
   "cell_type": "code",
   "execution_count": 8,
   "metadata": {},
   "outputs": [],
   "source": [
    "def value_iteration():\n",
    "    values = np.zeros((grid_size, grid_size))\n",
    "    policy = np.zeros((grid_size, grid_size, len(actions)))  # Policy over actions\n",
    "\n",
    "    for iteration in range(1000):  # Max iterations for convergence\n",
    "        delta = 0\n",
    "        for i in range(grid_size):\n",
    "            for j in range(grid_size):\n",
    "                state = (i, j)\n",
    "                if grid[state] == -1 or state == goal:\n",
    "                    continue\n",
    "\n",
    "                max_value = float('-inf')\n",
    "                for a, action in enumerate(actions):\n",
    "                    next_state = transition(state, action)\n",
    "                    r = reward(next_state)\n",
    "                    value = r + gamma * values[next_state]\n",
    "                    if value > max_value:\n",
    "                        max_value = value\n",
    "                        policy[i, j] = np.eye(len(actions))[a]  # Update policy\n",
    "                delta = max(delta, abs(max_value - values[state]))\n",
    "                values[state] = max_value\n",
    "        if delta < 1e-4:\n",
    "            break\n",
    "    return policy, values"
   ]
  },
  {
   "cell_type": "markdown",
   "metadata": {},
   "source": [
    "Benchmarking with Other RL Methods"
   ]
  },
  {
   "cell_type": "code",
   "execution_count": 10,
   "metadata": {},
   "outputs": [],
   "source": [
    "class QLearningAgent:\n",
    "    def __init__(self, epsilon=0.1, alpha=0.1, gamma=0.99):\n",
    "        self.q_table = np.zeros((grid_size, grid_size, len(actions)))\n",
    "        self.epsilon = epsilon\n",
    "        self.alpha = alpha\n",
    "        self.gamma = gamma\n",
    "\n",
    "    def choose_action(self, state):\n",
    "        if random.uniform(0, 1) < self.epsilon:\n",
    "            return random.choice(range(len(actions)))\n",
    "        else:\n",
    "            return np.argmax(self.q_table[state])\n",
    "\n",
    "    def update(self, state, action, reward, next_state):\n",
    "        best_next_action = np.argmax(self.q_table[next_state])\n",
    "        td_target = reward + self.gamma * self.q_table[next_state][best_next_action]\n",
    "        td_error = td_target - self.q_table[state][action]\n",
    "        self.q_table[state][action] += self.alpha * td_error"
   ]
  },
  {
   "cell_type": "code",
   "execution_count": 11,
   "metadata": {},
   "outputs": [],
   "source": [
    "class EpsilonGreedyBandit:\n",
    "    def __init__(self, epsilon=0.1, alpha=0.1, gamma=0.99):\n",
    "        self.q_table = np.zeros((grid_size, grid_size, len(actions)))\n",
    "        self.epsilon = epsilon\n",
    "        self.alpha = alpha\n",
    "        self.gamma = gamma\n",
    "        self.action_counts = np.zeros((grid_size, grid_size, len(actions)))\n",
    "\n",
    "    def choose_action(self, state):\n",
    "        if random.uniform(0, 1) < self.epsilon:\n",
    "            return random.choice(range(len(actions)))\n",
    "        else:\n",
    "            return np.argmax(self.q_table[state])\n",
    "\n",
    "    def update(self, state, action, reward, next_state):\n",
    "        best_next_action = np.argmax(self.q_table[next_state])\n",
    "        td_target = reward + self.gamma * self.q_table[next_state][best_next_action]\n",
    "        td_error = td_target - self.q_table[state][action]\n",
    "        self.q_table[state][action] += self.alpha * td_error\n",
    "        self.action_counts[state][action] += 1"
   ]
  },
  {
   "cell_type": "code",
   "execution_count": 12,
   "metadata": {},
   "outputs": [],
   "source": [
    "def run_agent(agent, num_episodes=1000, ucb=False):\n",
    "    total_rewards = []\n",
    "    t = 0\n",
    "    for episode in range(num_episodes):\n",
    "        state = start\n",
    "        total_reward = 0\n",
    "        while state != goal:\n",
    "            if ucb:\n",
    "                action_idx = agent.choose_action(state, t)\n",
    "            else:\n",
    "                action_idx = agent.choose_action(state)\n",
    "            action = actions[action_idx]\n",
    "            next_state = transition(state, action)\n",
    "            r = reward(next_state)\n",
    "            total_reward += r\n",
    "            agent.update(state, action_idx, r, next_state)\n",
    "            state = next_state\n",
    "            t += 1\n",
    "        total_rewards.append(total_reward)\n",
    "    return total_rewards"
   ]
  },
  {
   "cell_type": "code",
   "execution_count": 13,
   "metadata": {},
   "outputs": [
    {
     "name": "stdout",
     "output_type": "stream",
     "text": [
      "Running Value Iteration...\n",
      "Value Iteration completed in 77.43 seconds.\n",
      "Running Q-Learning...\n",
      "Q-Learning completed in 30.18 seconds.\n",
      "Running Epsilon-Greedy Bandit...\n",
      "Epsilon-Greedy Bandit completed in 31.48 seconds.\n",
      "\n",
      "Benchmark Results:\n",
      "Value Iteration Time: 77.43 seconds\n",
      "Q-Learning Time: 30.18 seconds\n",
      "Epsilon-Greedy Bandit Time: 31.48 seconds\n"
     ]
    },
    {
     "data": {
      "image/png": "[encoded data removed]",
      "text/plain": [
       "<Figure size 1000x600 with 1 Axes>"
      ]
     },
     "metadata": {},
     "output_type": "display_data"
    }
   ],
   "source": [
    "def benchmark():\n",
    "    print(\"Running Value Iteration...\")\n",
    "    start_time = time.time()\n",
    "    policy, _ = value_iteration()\n",
    "    vi_time = time.time() - start_time\n",
    "    print(f\"Value Iteration completed in {vi_time:.2f} seconds.\")\n",
    "\n",
    "    print(\"Running Q-Learning...\")\n",
    "    q_learning_agent = QLearningAgent()\n",
    "    start_time = time.time()\n",
    "    ql_rewards = run_agent(q_learning_agent)\n",
    "    ql_time = time.time() - start_time\n",
    "    print(f\"Q-Learning completed in {ql_time:.2f} seconds.\")\n",
    "\n",
    "    print(\"Running Epsilon-Greedy Bandit...\")\n",
    "    epsilon_greedy_bandit = EpsilonGreedyBandit()\n",
    "    start_time = time.time()\n",
    "    eg_rewards = run_agent(epsilon_greedy_bandit)\n",
    "    eg_time = time.time() - start_time\n",
    "    print(f\"Epsilon-Greedy Bandit completed in {eg_time:.2f} seconds.\")\n",
    "\n",
    "\n",
    "\n",
    "    # Output performance comparison\n",
    "    print(\"\\nBenchmark Results:\")\n",
    "    print(f\"Value Iteration Time: {vi_time:.2f} seconds\")\n",
    "    print(f\"Q-Learning Time: {ql_time:.2f} seconds\")\n",
    "    print(f\"Epsilon-Greedy Bandit Time: {eg_time:.2f} seconds\")\n",
    "\n",
    "\n",
    "    # Plotting cumulative rewards over episodes\n",
    "    plt.figure(figsize=(10, 6))\n",
    "    plt.plot(np.cumsum(ql_rewards), label=\"Q-Learning\", color='purple')\n",
    "    plt.plot(np.cumsum(eg_rewards), label=\"Epsilon-Greedy Bandit\", color='blue')\n",
    "    plt.title('Cumulative Rewards Over Time')\n",
    "    plt.xlabel('Episodes')\n",
    "    plt.ylabel('Cumulative Reward')\n",
    "    plt.legend()\n",
    "    plt.grid(True)\n",
    "    plt.show()\n",
    "\n",
    "# Run benchmark\n",
    "benchmark()"
   ]
  },
  {
   "cell_type": "code",
   "execution_count": null,
   "metadata": {},
   "outputs": [],
   "source": []
  }
 ],
 "metadata": {
  "kernelspec": {
   "display_name": "summa",
   "language": "python",
   "name": "python3"
  },
  "language_info": {
   "codemirror_mode": {
    "name": "ipython",
    "version": 3
   },
   "file_extension": ".py",
   "mimetype": "text/x-python",
   "name": "python",
   "nbconvert_exporter": "python",
   "pygments_lexer": "ipython3",
   "version": "3.10.13"
  }
 },
 "nbformat": 4,
 "nbformat_minor": 2
}
